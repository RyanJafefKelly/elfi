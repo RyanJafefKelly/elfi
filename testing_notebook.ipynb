{
 "cells": [
  {
   "cell_type": "code",
   "execution_count": 2,
   "id": "a1cddcbf",
   "metadata": {},
   "outputs": [],
   "source": [
    "import elfi\n",
    "import numpy as np\n",
    "import scipy.stats as ss"
   ]
  },
  {
   "cell_type": "code",
   "execution_count": 7,
   "id": "04443e46",
   "metadata": {},
   "outputs": [],
   "source": [
    "alphas = np.load(\"pools/arraypool_2969471073/alpha.npy\")\n",
    "S = np.load(\"pools/arraypool_2969471073/S.npy\")"
   ]
  },
  {
   "cell_type": "code",
   "execution_count": 8,
   "id": "6d00fbf2",
   "metadata": {},
   "outputs": [
    {
     "data": {
      "text/plain": [
       "(3600, 48)"
      ]
     },
     "execution_count": 8,
     "metadata": {},
     "output_type": "execute_result"
    }
   ],
   "source": [
    "S.shape"
   ]
  },
  {
   "cell_type": "code",
   "execution_count": 21,
   "id": "93e38941",
   "metadata": {},
   "outputs": [
    {
     "data": {
      "text/plain": [
       "1.0962576622024847"
      ]
     },
     "execution_count": 21,
     "metadata": {},
     "output_type": "execute_result"
    }
   ],
   "source": [
    "test_sample = np.random.normal(0, 1, 100)\n",
    "test_sample_10 = test_sample\n",
    "np.std(test_sample_10)"
   ]
  },
  {
   "cell_type": "code",
   "execution_count": 43,
   "id": "11a34804",
   "metadata": {},
   "outputs": [
    {
     "data": {
      "text/plain": [
       "array([0.09465585, 0.02116169, 0.00763724])"
      ]
     },
     "execution_count": 43,
     "metadata": {},
     "output_type": "execute_result"
    }
   ],
   "source": [
    "est_posterior_cov = np.array([[0.081, 0.007, 0.001],\n",
    "    [0.007, 0.003, 0.001],\n",
    "    [0.001, 0.001, 0.003]])\n",
    "np.random.multivariate_normal(mean=np.zeros(3), cov=0.1*est_posterior_cov)"
   ]
  },
  {
   "cell_type": "code",
   "execution_count": 20,
   "id": "471c3840",
   "metadata": {},
   "outputs": [],
   "source": [
    "res = np.load(\"res.npy\")"
   ]
  },
  {
   "cell_type": "code",
   "execution_count": 23,
   "id": "330db1f8",
   "metadata": {},
   "outputs": [
    {
     "data": {
      "text/plain": [
       "(8, 63, 66)"
      ]
     },
     "execution_count": 23,
     "metadata": {},
     "output_type": "execute_result"
    }
   ],
   "source": [
    "np.unique(res, axis=0).shape"
   ]
  },
  {
   "cell_type": "code",
   "execution_count": 24,
   "id": "5a7bd420",
   "metadata": {},
   "outputs": [
    {
     "ename": "NameError",
     "evalue": "name 'n_days' is not defined",
     "output_type": "error",
     "traceback": [
      "\u001b[0;31m---------------------------------------------------------------------------\u001b[0m",
      "\u001b[0;31mNameError\u001b[0m                                 Traceback (most recent call last)",
      "\u001b[0;32m<ipython-input-24-0e3c63d43861>\u001b[0m in \u001b[0;36m<module>\u001b[0;34m\u001b[0m\n\u001b[0;32m----> 1\u001b[0;31m \u001b[0mtmp_np\u001b[0m \u001b[0;34m=\u001b[0m \u001b[0mnp\u001b[0m\u001b[0;34m.\u001b[0m\u001b[0mzeros\u001b[0m\u001b[0;34m(\u001b[0m\u001b[0;34m(\u001b[0m\u001b[0mn_days\u001b[0m\u001b[0;34m,\u001b[0m \u001b[0mn_toads\u001b[0m\u001b[0;34m,\u001b[0m \u001b[0mbatch_size\u001b[0m\u001b[0;34m)\u001b[0m\u001b[0;34m)\u001b[0m  \u001b[0;31m# TODO: inefficient...\u001b[0m\u001b[0;34m\u001b[0m\u001b[0;34m\u001b[0m\u001b[0m\n\u001b[0m",
      "\u001b[0;31mNameError\u001b[0m: name 'n_days' is not defined"
     ]
    }
   ],
   "source": [
    "tmp_np = np.zeros((63, 66, ))  # TODO: inefficient..."
   ]
  }
 ],
 "metadata": {
  "kernelspec": {
   "display_name": "Python 3",
   "language": "python",
   "name": "python3"
  },
  "language_info": {
   "codemirror_mode": {
    "name": "ipython",
    "version": 3
   },
   "file_extension": ".py",
   "mimetype": "text/x-python",
   "name": "python",
   "nbconvert_exporter": "python",
   "pygments_lexer": "ipython3",
   "version": "3.8.10"
  }
 },
 "nbformat": 4,
 "nbformat_minor": 5
}
